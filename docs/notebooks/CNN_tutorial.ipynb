{
 "cells": [
  {
   "cell_type": "markdown",
   "metadata": {},
   "source": [
    "# Tutorial: Training convolutional neural networks with nolearn"
   ]
  },
  {
   "cell_type": "markdown",
   "metadata": {},
   "source": [
    "Author: [Benjamin Bossan](https://github.com/benjaminbossan)"
   ]
  },
  {
   "cell_type": "markdown",
   "metadata": {
    "collapsed": true
   },
   "source": [
    "This tutorial's goal is to teach you how to use [nolearn](https://github.com/dnouri/nolearn) to train convolutional neural networks (CNNs). The nolearn documentation can be found [here](https://pythonhosted.org/nolearn/). We assume that you have some general knowledge about machine learning in general or neural nets specifically, but want to learn more about convolutional neural networks and nolearn."
   ]
  },
  {
   "cell_type": "markdown",
   "metadata": {},
   "source": [
    "We well cover several points in this notebook.\n",
    "\n",
    "1. How to [load image data](#Loading-MNIST-data) such that we can use it for our purpose. For this tutorial, we will use the MNIST data set, which consists of images of the numbers from 0 to 9.\n",
    "2. How to [properly define layers](#Definition-of-the-layers) of the net. A good choice of layers, i.e. a good network architecture, is most important to get nice results out of a neural net.\n",
    "3. The definition of the [neural network](#Definition-of-the-neural-network) itself. Here we define important hyper-parameters.\n",
    "4. Next we will see how [visualizations](#Visualizations) may help us to further refine the network.\n",
    "5. Finally, we will show you how nolearn can help us find [better architectures](#Finding-a-good-architecture) for our neural network."
   ]
  },
  {
   "cell_type": "markdown",
   "metadata": {},
   "source": [
    "## Imports"
   ]
  },
  {
   "cell_type": "code",
   "execution_count": 1,
   "metadata": {
    "collapsed": true
   },
   "outputs": [],
   "source": [
    "import os"
   ]
  },
  {
   "cell_type": "code",
   "execution_count": 2,
   "metadata": {
    "collapsed": false
   },
   "outputs": [
    {
     "name": "stdout",
     "output_type": "stream",
     "text": [
      "Populating the interactive namespace from numpy and matplotlib\n"
     ]
    }
   ],
   "source": [
    "import matplotlib.pyplot as plt\n",
    "%pylab inline\n",
    "import numpy as np"
   ]
  },
  {
   "cell_type": "code",
   "execution_count": 3,
   "metadata": {
    "collapsed": false
   },
   "outputs": [
    {
     "name": "stderr",
     "output_type": "stream",
     "text": [
      "Using gpu device 0: GeForce GTX 970 (CNMeM is disabled)\n"
     ]
    }
   ],
   "source": [
    "from lasagne.layers import DenseLayer\n",
    "from lasagne.layers import InputLayer\n",
    "from lasagne.layers import DropoutLayer\n",
    "from lasagne.layers import Conv2DLayer\n",
    "from lasagne.layers import MaxPool2DLayer\n",
    "from lasagne.nonlinearities import softmax\n",
    "from lasagne.updates import adam\n",
    "from lasagne.layers import get_all_params"
   ]
  },
  {
   "cell_type": "code",
   "execution_count": 4,
   "metadata": {
    "collapsed": false
   },
   "outputs": [],
   "source": [
    "from nolearn.lasagne import NeuralNet\n",
    "from nolearn.lasagne import TrainSplit\n",
    "from nolearn.lasagne import objective"
   ]
  },
  {
   "cell_type": "markdown",
   "metadata": {},
   "source": [
    "Note: If your GPU supports it, you should try using *lasagne.cuda_convnet.Conv2DCCLayer* and *lasagne.cuda_convnet.MaxPool2DCCLayer*, which could give you a nice speed up."
   ]
  },
  {
   "cell_type": "markdown",
   "metadata": {},
   "source": [
    "## Loading MNIST data"
   ]
  },
  {
   "cell_type": "markdown",
   "metadata": {},
   "source": [
    "This little helper function loads the MNIST data available [here](https://www.kaggle.com/c/digit-recognizer/data)."
   ]
  },
  {
   "cell_type": "code",
   "execution_count": 5,
   "metadata": {
    "collapsed": false
   },
   "outputs": [],
   "source": [
    "def load_mnist(path):\n",
    "    X = []\n",
    "    y = []\n",
    "    with open(path, 'rb') as f:\n",
    "        next(f)  # skip header\n",
    "        for line in f:\n",
    "            yi, xi = line.split(',', 1)\n",
    "            y.append(yi)\n",
    "            X.append(xi.split(','))\n",
    "\n",
    "    # Theano works with fp32 precision\n",
    "    X = np.array(X).astype(np.float32)\n",
    "    y = np.array(y).astype(np.int32)\n",
    "\n",
    "    # apply some very simple normalization to the data\n",
    "    X -= X.mean()\n",
    "    X /= X.std()\n",
    "\n",
    "    # For convolutional layers, the default shape of data is bc01,\n",
    "    # i.e. batch size x color channels x image dimension 1 x image dimension 2.\n",
    "    # Therefore, we reshape the X data to -1, 1, 28, 28.\n",
    "    X = X.reshape(\n",
    "        -1,  # number of samples, -1 makes it so that this number is determined automatically\n",
    "        1,   # 1 color channel, since images are only black and white\n",
    "        28,  # first image dimension (vertical)\n",
    "        28,  # second image dimension (horizontal)\n",
    "    )\n",
    "\n",
    "    return X, y"
   ]
  },
  {
   "cell_type": "code",
   "execution_count": 6,
   "metadata": {
    "collapsed": false
   },
   "outputs": [],
   "source": [
    "# here you should enter the path to your MNIST data\n",
    "path = os.path.join(os.path.expanduser('~'), 'data/mnist/train.csv')"
   ]
  },
  {
   "cell_type": "code",
   "execution_count": 7,
   "metadata": {
    "collapsed": false,
    "scrolled": true
   },
   "outputs": [],
   "source": [
    "X, y = load_mnist(path)"
   ]
  },
  {
   "cell_type": "code",
   "execution_count": 8,
   "metadata": {
    "collapsed": false
   },
   "outputs": [
    {
     "data": {
      "image/png": "[encoded data removed]",
      "text/plain": [
       "<matplotlib.figure.Figure at 0x7fa5c47c9f50>"
      ]
     },
     "metadata": {},
     "output_type": "display_data"
    }
   ],
   "source": [
    "figs, axes = plt.subplots(4, 4, figsize=(6, 6))\n",
    "for i in range(4):\n",
    "    for j in range(4):\n",
    "        axes[i, j].imshow(-X[i + 4 * j].reshape(28, 28), cmap='gray', interpolation='none')\n",
    "        axes[i, j].set_xticks([])\n",
    "        axes[i, j].set_yticks([])\n",
    "        axes[i, j].set_title(\"Label: {}\".format(y[i + 4 * j]))\n",
    "        axes[i, j].axis('off')"
   ]
  },
  {
   "cell_type": "markdown",
   "metadata": {},
   "source": [
    "## Definition of the layers"
   ]
  },
  {
   "cell_type": "markdown",
   "metadata": {},
   "source": [
    "So let us define the layers for the convolutional net. In general, layers are assembled in a list. Each element of the list is a tuple -- first a Lasagne layer, next a dictionary containing the arguments of the layer. We will explain the layer definitions in a moment, but in general, you should look them up in the [Lasagne documenation](http://lasagne.readthedocs.org/en/latest/modules/layers.html).\n",
    "\n",
    "Nolearn allows you to skip Lasagne's _incoming_ keyword, which specifies how the layers are connected. Instead, nolearn will automatically assume that layers are connected in the order they appear in the list.\n",
    "\n",
    "*Note: Of course you can manually set the *incoming* parameter if your neural net's layers are connected differently. To do so, you have to give the corresponding layer a name (e.g. *'name': 'my layer'*) and use that name as a reference (*'incoming': 'my layer'*).*\n",
    "\n",
    "The layers we use are the following:\n",
    "\n",
    "* _InputLayer_: We have to specify the _shape_ of the data. For image data, it is batch size x color channels x image dimension 1 x image dimension 2 (aka bc01). Here you should generally just leave the batch size as _None_, so that it is taken care off automatically. The other dimensions are given by _X_.\n",
    "* _Conv2DLayer_: The most important keywords are _num_filters_ and _filter_size_. The former indicates the number of channels -- the more you choose, the more different filters can be learned by the CNN. Generally, the first convolutional layers will learn simple features, such as edges, while deeper layers can learn more abstract features. Therefore, you should increase the number of filters the deeper you go. The _filter_size_ is the size of the filter/kernel. The current consensus is to always use 3x3 filters, as these allow to cover the same number of image pixels with fewer parameters than larger filters do.\n",
    "* _MaxPool2DLayer_: This layer performs max pooling and hopefully provides translation invariance. We need to indicate the region over which it pools, with 2x2 being the default of most users.\n",
    "* _DenseLayer_: This is your vanilla fully-connected layer; you should indicate the number of 'neurons' with the _num_units_ argument. The very last layer is assumed to be the output layer. We thus set the number of units to be the number of classes, 10, and choose _softmax_ as the output nonlinearity, as we are dealing with a classification task.\n",
    "* _DropoutLayer_: Dropout is a common technique to regularize neural networks. It is almost always a good idea to include dropout between your dense layers.\n",
    "\n",
    "Apart from these arguments, the Lasagne layers have very reasonable defaults concerning weight initialization, nonlinearities (rectified linear units), etc."
   ]
  },
  {
   "cell_type": "code",
   "execution_count": 9,
   "metadata": {
    "collapsed": false
   },
   "outputs": [],
   "source": [
    "layers0 = [\n",
    "    # layer dealing with the input data\n",
    "    (InputLayer, {'shape': (None, X.shape[1], X.shape[2], X.shape[3])}),\n",
    "\n",
    "    # first stage of our convolutional layers\n",
    "    (Conv2DLayer, {'num_filters': 96, 'filter_size': 5}),\n",
    "    (Conv2DLayer, {'num_filters': 96, 'filter_size': 3}),\n",
    "    (Conv2DLayer, {'num_filters': 96, 'filter_size': 3}),\n",
    "    (Conv2DLayer, {'num_filters': 96, 'filter_size': 3}),\n",
    "    (Conv2DLayer, {'num_filters': 96, 'filter_size': 3}),\n",
    "    (MaxPool2DLayer, {'pool_size': 2}),\n",
    "\n",
    "    # second stage of our convolutional layers\n",
    "    (Conv2DLayer, {'num_filters': 128, 'filter_size': 3}),\n",
    "    (Conv2DLayer, {'num_filters': 128, 'filter_size': 3}),\n",
    "    (Conv2DLayer, {'num_filters': 128, 'filter_size': 3}),\n",
    "    (MaxPool2DLayer, {'pool_size': 2}),\n",
    "\n",
    "    # two dense layers with dropout\n",
    "    (DenseLayer, {'num_units': 64}),\n",
    "    (DropoutLayer, {}),\n",
    "    (DenseLayer, {'num_units': 64}),\n",
    "\n",
    "    # the output layer\n",
    "    (DenseLayer, {'num_units': 10, 'nonlinearity': softmax}),\n",
    "]"
   ]
  },
  {
   "cell_type": "markdown",
   "metadata": {},
   "source": [
    "## Definition of the neural network"
   ]
  },
  {
   "cell_type": "markdown",
   "metadata": {},
   "source": [
    "We now define the neural network itself. But before we do this, we want to add L2 regularization to the net (see [here](http://cs231n.github.io/neural-networks-2/#reg) for more). This is achieved in the little helper function below. If you don't understand exactly what this about, just ignore this."
   ]
  },
  {
   "cell_type": "code",
   "execution_count": 10,
   "metadata": {
    "collapsed": true
   },
   "outputs": [],
   "source": [
    "def regularization_objective(layers, lambda1=0., lambda2=0., *args, **kwargs):\n",
    "    # default loss\n",
    "    losses = objective(layers, *args, **kwargs)\n",
    "    # get the layers' weights, but only those that should be regularized\n",
    "    # (i.e. not the biases)\n",
    "    weights = get_all_params(layers[-1], regularizable=True)\n",
    "    # sum of absolute weights for L1\n",
    "    sum_abs_weights = sum([abs(w).sum() for w in weights])\n",
    "    # sum of squared weights for L2\n",
    "    sum_squared_weights = sum([(w ** 2).sum() for w in weights])\n",
    "    # add weights to regular loss\n",
    "    losses += lambda1 * sum_abs_weights + lambda2 * sum_squared_weights\n",
    "    return losses"
   ]
  },
  {
   "cell_type": "markdown",
   "metadata": {},
   "source": [
    "Now we initialize nolearn's neural net itself. We will explain each argument shortly:\n",
    "* The most important argument is the _layers_ argument, which should be the list of layers defined above.\n",
    "* _max_epochs_ is simply the number of epochs the net learns with each call to _fit_ (an 'epoch' is a full training cycle using all training data). \n",
    "* As _update_, we choose _adam_, which for many problems is a good first choice as updateing rule.\n",
    "* The _objective_ of our net will be the _regularization_objective_ we just defined.\n",
    "* To change the _lambda2_ parameter of our objective function, we set the _objective_lambda2_ parameter. The NeuralNetwork class will then automatically set this value. Usually, moderate L2 regularization is applied, whereas L1 regularization is less frequent.\n",
    "* For 'adam', a small learning rate is best, so we set it with the _update_learning_rate_ argument (nolearn will automatically interpret this argument to mean the _learning_rate_ argument of the _update_ parameter, i.e. adam in our case).\n",
    "* The NeuralNet will hold out some of the training data for validation if we set the _eval_size_ of the _TrainSplit_ to a number greater than 0. This will allow us to monitor how well the net generalizes to yet unseen data. By setting this argument to 1/4, we tell the net to hold out 25% of the samples for validation.\n",
    "* Finally, we set _verbose_ to 1, which will result in the net giving us some useful information."
   ]
  },
  {
   "cell_type": "code",
   "execution_count": 11,
   "metadata": {
    "collapsed": false
   },
   "outputs": [],
   "source": [
    "net0 = NeuralNet(\n",
    "    layers=layers0,\n",
    "    max_epochs=10,\n",
    "\n",
    "    update=adam,\n",
    "    update_learning_rate=0.0002,\n",
    "\n",
    "    objective=regularization_objective,\n",
    "    objective_lambda2=0.0025,\n",
    "\n",
    "    train_split=TrainSplit(eval_size=0.25),\n",
    "    verbose=1,\n",
    ")"
   ]
  },
  {
   "cell_type": "markdown",
   "metadata": {},
   "source": [
    "### Training the neural network"
   ]
  },
  {
   "cell_type": "markdown",
   "metadata": {},
   "source": [
    "To train the net, we call its _fit_ method with our X and y data, as we would with any [scikit learn](http://scikit-learn.org) classifier."
   ]
  },
  {
   "cell_type": "code",
   "execution_count": 12,
   "metadata": {
    "collapsed": false
   },
   "outputs": [
    {
     "name": "stdout",
     "output_type": "stream",
     "text": [
      "# Neural Network with 753610 learnable parameters\n",
      "\n",
      "## Layer information\n",
      "\n",
      "  #  name         size\n",
      "---  -----------  --------\n",
      "  0  input0       1x28x28\n",
      "  1  conv2d1      96x24x24\n",
      "  2  conv2d2      96x22x22\n",
      "  3  conv2d3      96x20x20\n",
      "  4  conv2d4      96x18x18\n",
      "  5  conv2d5      96x16x16\n",
      "  6  maxpool2d6   96x8x8\n",
      "  7  conv2d7      128x6x6\n",
      "  8  conv2d8      128x4x4\n",
      "  9  conv2d9      128x2x2\n",
      " 10  maxpool2d10  128x1x1\n",
      " 11  dense11      64\n",
      " 12  dropout12    64\n",
      " 13  dense13      64\n",
      " 14  dense14      10\n",
      "\n",
      "  epoch    train loss    valid loss    train/val    valid acc  dur\n",
      "-------  ------------  ------------  -----------  -----------  ------\n",
      "      1       \u001b[36m2.47546\u001b[0m       \u001b[32m1.39636\u001b[0m      1.77279      0.93566  67.40s\n",
      "      2       \u001b[36m1.40334\u001b[0m       \u001b[32m1.15559\u001b[0m      1.21439      0.95567  67.34s\n",
      "      3       \u001b[36m1.16061\u001b[0m       \u001b[32m1.01153\u001b[0m      1.14738      0.96583  67.28s\n",
      "      4       \u001b[36m1.01041\u001b[0m       \u001b[32m0.89801\u001b[0m      1.12517      0.97233  68.75s\n",
      "      5       \u001b[36m0.90545\u001b[0m       \u001b[32m0.81311\u001b[0m      1.11357      0.97656  67.58s\n",
      "      6       \u001b[36m0.81341\u001b[0m       \u001b[32m0.73601\u001b[0m      1.10516      0.98174  67.89s\n",
      "      7       \u001b[36m0.74443\u001b[0m       \u001b[32m0.72408\u001b[0m      1.02810      0.97007  68.39s\n",
      "      8       \u001b[36m0.67935\u001b[0m       \u001b[32m0.64682\u001b[0m      1.05029      0.97703  67.72s\n",
      "      9       \u001b[36m0.62569\u001b[0m       \u001b[32m0.60011\u001b[0m      1.04263      0.97779  69.02s\n",
      "     10       \u001b[36m0.57854\u001b[0m       \u001b[32m0.55480\u001b[0m      1.04279      0.97863  67.45s\n"
     ]
    },
    {
     "data": {
      "text/plain": [
       "NeuralNet(X_tensor_type=None,\n",
       "     batch_iterator_test=<nolearn.lasagne.base.BatchIterator object at 0x7fa5c47b3650>,\n",
       "     batch_iterator_train=<nolearn.lasagne.base.BatchIterator object at 0x7fa5c47b35d0>,\n",
       "     custom_score=None,\n",
       "     layers=[(<class 'lasagne.layers.input.InputLayer'>, {'shape': (None, 1, 28, 28)}), (<class 'lasagne.layers.conv.Conv2DLayer'>, {'filter_size': 5, 'num_filters': 96}), (<class 'lasagne.layers.conv.Conv2DLayer'>, {'filter_size': 3, 'num_filters': 96}), (<class 'lasagne.layers.conv.Conv2DLayer'>, {'fil...layers.dense.DenseLayer'>, {'num_units': 10, 'nonlinearity': <function softmax at 0x7fa5c5db6578>})],\n",
       "     loss=None, max_epochs=10, more_params={},\n",
       "     objective=<function regularization_objective at 0x7fa5c4183aa0>,\n",
       "     objective_lambda2=0.0025,\n",
       "     objective_loss_function=<function categorical_crossentropy at 0x7fa5c5dddcf8>,\n",
       "     on_epoch_finished=[<nolearn.lasagne.handlers.PrintLog instance at 0x7fa5c3fd6f38>],\n",
       "     on_training_finished=[],\n",
       "     on_training_started=[<nolearn.lasagne.handlers.PrintLayerInfo instance at 0x7fa5c3fd6fc8>],\n",
       "     regression=False,\n",
       "     train_split=<nolearn.lasagne.base.TrainSplit object at 0x7fa5c408e950>,\n",
       "     update=<function adam at 0x7fa5c5962c08>, update_learning_rate=0.0002,\n",
       "     use_label_encoder=False, verbose=1,\n",
       "     y_tensor_type=TensorType(int32, vector))"
      ]
     },
     "execution_count": 12,
     "metadata": {},
     "output_type": "execute_result"
    }
   ],
   "source": [
    "net0.fit(X, y)"
   ]
  },
  {
   "cell_type": "markdown",
   "metadata": {},
   "source": [
    "As we set the verbosity to 1, nolearn will print some useful information for us:\n",
    "\n",
    "* First of all, some _general information_ about the net and its layers is printed. Then, during training, the progress will be printed after each epoch. \n",
    "* The _train loss_ is the loss/cost that the net tries to minimize. For this example, this is the _log loss_ (_cross entropy_).\n",
    "* The _valid loss_ is the loss for the hold out validation set. You should expect this value to indicate how well your model generalizes to yet unseen data.\n",
    "* _train/val_ is simply the ratio of train loss to valid loss. If this value is very low, i.e. if the train loss is much better than your valid loss, it means that the net has probably [overfitted](https://en.wikipedia.org/wiki/Overfitting) the train data.\n",
    "* When we are dealing with a classification task, the accuracy score of the valdation set, _valid acc_, is also printed.\n",
    "* _dur_ is simply the duration it took to process the given epoch.\n",
    "\n",
    "In addition to this, nolearn will color the as of yet best train and valid loss, so that it is easy to spot whether the net makes progress."
   ]
  },
  {
   "cell_type": "markdown",
   "metadata": {},
   "source": [
    "## Visualizations"
   ]
  },
  {
   "cell_type": "markdown",
   "metadata": {},
   "source": [
    "Diagnosing what's wrong with your neural network if the results are unsatisfying can sometimes be difficult, something closer to an art than a science. But with nolearn's visualization tools, we should be able to get some insights that help us diagnose if something is wrong."
   ]
  },
  {
   "cell_type": "code",
   "execution_count": 13,
   "metadata": {
    "collapsed": true
   },
   "outputs": [],
   "source": [
    "from nolearn.lasagne.visualize import plot_loss\n",
    "from nolearn.lasagne.visualize import plot_conv_weights\n",
    "from nolearn.lasagne.visualize import plot_conv_activity\n",
    "from nolearn.lasagne.visualize import plot_occlusion"
   ]
  },
  {
   "cell_type": "markdown",
   "metadata": {},
   "source": [
    "### Train and validation loss progress"
   ]
  },
  {
   "cell_type": "markdown",
   "metadata": {
    "collapsed": true
   },
   "source": [
    "With nolearn's visualization tools, it is possible to get some further insights into the working of the CNN. First of all, we will simply plot the log loss of the training and validation data over each epoch, as shown below:"
   ]
  },
  {
   "cell_type": "code",
   "execution_count": 14,
   "metadata": {
    "collapsed": false,
    "scrolled": false
   },
   "outputs": [
    {
     "data": {
      "image/png": "[encoded data removed]",
      "text/plain": [
       "<matplotlib.figure.Figure at 0x7fa5c37c4dd0>"
      ]
     },
     "metadata": {},
     "output_type": "display_data"
    }
   ],
   "source": [
    "plot_loss(net0)"
   ]
  },
  {
   "cell_type": "markdown",
   "metadata": {},
   "source": [
    "This kind of visualization can be helpful in determining whether we want to continue training or not. For instance, here we see that both loss functions still are still decreasing and that more training will pay off. This graph can also help determine if we are overfitting: If the train loss is much lower than the validation loss, we should probably do something to regularize the net."
   ]
  },
  {
   "cell_type": "markdown",
   "metadata": {},
   "source": [
    "### Visualizing layer weights"
   ]
  },
  {
   "cell_type": "markdown",
   "metadata": {},
   "source": [
    "We can further have a look at the weights learned by the net. The first argument of the function should be the layer we want to visualize. The layers can be accessed through the *layers_* attribute and then by name (e.g. 'conv2dcc1') or by index, as below. (Obviously, visualizing the weights only makes sense for convolutional layers.)"
   ]
  },
  {
   "cell_type": "code",
   "execution_count": 15,
   "metadata": {
    "collapsed": false
   },
   "outputs": [
    {
     "data": {
      "image/png": "[encoded data removed]",
      "text/plain": [
       "<matplotlib.figure.Figure at 0x7fa5b5ccd690>"
      ]
     },
     "metadata": {},
     "output_type": "display_data"
    }
   ],
   "source": [
    "plot_conv_weights(net0.layers_[1], figsize=(4, 4))"
   ]
  },
  {
   "cell_type": "markdown",
   "metadata": {},
   "source": [
    "As can be seen above, in our case, the results are not too interesting. If the weights just look like noise, we might have to do something (e.g. use more filters so that each can specialize better)."
   ]
  },
  {
   "cell_type": "markdown",
   "metadata": {},
   "source": [
    "## Visualizing the layers' activities"
   ]
  },
  {
   "cell_type": "markdown",
   "metadata": {
    "collapsed": true
   },
   "source": [
    "To see through the \"eyes\" of the net, we can plot the activities produced by different layers. The *plot_conv_activity* function is made for that. The first argument, again, is a layer, the second argument an image in the bc01 format (which is why we use _X[0:1]_ instead of just _X[0]_)."
   ]
  },
  {
   "cell_type": "code",
   "execution_count": 16,
   "metadata": {
    "collapsed": true
   },
   "outputs": [],
   "source": [
    "x = X[0:1]"
   ]
  },
  {
   "cell_type": "code",
   "execution_count": 17,
   "metadata": {
    "collapsed": false
   },
   "outputs": [
    {
     "data": {
      "image/png": "[encoded data removed]",
      "text/plain": [
       "<matplotlib.figure.Figure at 0x7fa5b2e4a4d0>"
      ]
     },
     "metadata": {},
     "output_type": "display_data"
    }
   ],
   "source": [
    "plot_conv_activity(net0.layers_[1], x)"
   ]
  },
  {
   "cell_type": "markdown",
   "metadata": {},
   "source": [
    "Here we can see that depending on the learned filters, the neural net represents the image in different ways, which is what we should expect. If, e.g., some images were completely black, that could indicate that the corresponding filters have not learned anything useful. When you find yourself in such a situation, training longer or initializing the weights differently might do the trick."
   ]
  },
  {
   "cell_type": "markdown",
   "metadata": {},
   "source": [
    "### Plot occlusion images"
   ]
  },
  {
   "cell_type": "markdown",
   "metadata": {},
   "source": [
    "A possibility to check if the net, for instance, overfits or learns important features is to occlude part of the image. Then we can check whether the net still makes correct predictions. The idea behind that is the following: If the most critical part of an image is something like the head of a person, that is probably right. If it is instead a random part of the background, the net probably overfits (see [here](http://www.matthewzeiler.com/pubs/arxive2013/arxive2013.pdf) for more).\n",
    "\n",
    "With the *plot_occlusion* function, we can check this. The first argument is the neural net, the second the X data, the third the y data. Be warned that this function can be quite slow for larger images."
   ]
  },
  {
   "cell_type": "code",
   "execution_count": 18,
   "metadata": {
    "collapsed": false
   },
   "outputs": [
    {
     "data": {
      "image/png": "[encoded data removed]",
      "text/plain": [
       "<matplotlib.figure.Figure at 0x7fa5b28c56d0>"
      ]
     },
     "metadata": {},
     "output_type": "display_data"
    }
   ],
   "source": [
    "plot_occlusion(net0, X[:5], y[:5])"
   ]
  },
  {
   "cell_type": "markdown",
   "metadata": {},
   "source": [
    "Here we see which parts of the number are most important for correct classification. We ses that the critical parts are all directly above the numbers, so this seems to work out. For more complex images with different objects in the scene, this function should be more useful, though."
   ]
  },
  {
   "cell_type": "markdown",
   "metadata": {},
   "source": [
    "## Finding a good architecture"
   ]
  },
  {
   "cell_type": "markdown",
   "metadata": {},
   "source": [
    "This section tries to help you go deep with your convolutional neural net. To do so, one cannot simply increase the number of convolutional layers at will. It is important that the layers have a sufficiently high learning capacity while they should cover approximately 100% of the incoming image ([Xudong Cao, 2015](https://www.kaggle.com/c/datasciencebowl/forums/t/13166/happy-lantern-festival-report-and-code))."
   ]
  },
  {
   "cell_type": "markdown",
   "metadata": {},
   "source": [
    "The usual approach is to try to go deep with convolutional layers. If you chain too many convolutional layers, though, the learning capacity of the layers falls too low. At this point, you have to add a max pooling layer. Use too many max pooling layers, and your image coverage grows larger than the image, which is clearly pointless. Striking the right balance while maximizing the depth of your layer is the final goal."
   ]
  },
  {
   "cell_type": "markdown",
   "metadata": {},
   "source": [
    "It is generally a good idea to use small filter sizes for your convolutional layers, generally <b>3x3</b>. The reason for this is that this allows to cover the same receptive field of the image while using less parameters that would be required if a larger filter size were used. Moreover, deeper stacks of convolutional layers are more expressive (see [here](http://cs231n.github.io/convolutional-networks) for more)."
   ]
  },
  {
   "cell_type": "code",
   "execution_count": 19,
   "metadata": {
    "collapsed": true
   },
   "outputs": [],
   "source": [
    "from nolearn.lasagne import PrintLayerInfo"
   ]
  },
  {
   "cell_type": "markdown",
   "metadata": {},
   "source": [
    "### A shallow net"
   ]
  },
  {
   "cell_type": "markdown",
   "metadata": {},
   "source": [
    "Let us try out a simple architecture and see how we fare."
   ]
  },
  {
   "cell_type": "code",
   "execution_count": 20,
   "metadata": {
    "collapsed": false
   },
   "outputs": [],
   "source": [
    "layers1 = [\n",
    "    (InputLayer, {'shape': (None, X.shape[1], X.shape[2], X.shape[3])}),\n",
    "\n",
    "    (Conv2DLayer, {'num_filters': 32, 'filter_size': (3, 3)}),\n",
    "    (MaxPool2DLayer, {'pool_size': (2, 2)}),\n",
    "\n",
    "    (Conv2DLayer, {'num_filters': 64, 'filter_size': (3, 3)}),\n",
    "    (Conv2DLayer, {'num_filters': 64, 'filter_size': (3, 3)}),\n",
    "    (MaxPool2DLayer, {'pool_size': (2, 2)}),\n",
    "\n",
    "    (Conv2DLayer, {'num_filters': 96, 'filter_size': (3, 3)}),\n",
    "    (MaxPool2DLayer, {'pool_size': (2, 2)}),\n",
    "\n",
    "    (DenseLayer, {'num_units': 64}),\n",
    "    (DropoutLayer, {}),\n",
    "    (DenseLayer, {'num_units': 64}),\n",
    "\n",
    "    (DenseLayer, {'num_units': 10, 'nonlinearity': softmax}),\n",
    "]"
   ]
  },
  {
   "cell_type": "code",
   "execution_count": 21,
   "metadata": {
    "collapsed": true
   },
   "outputs": [],
   "source": [
    "net1 = NeuralNet(\n",
    "    layers=layers1,\n",
    "    update_learning_rate=0.01,\n",
    "    verbose=2,\n",
    ")"
   ]
  },
  {
   "cell_type": "markdown",
   "metadata": {},
   "source": [
    "To see information about the _capacity_ and _coverage_ of each layer, we need to set the verbosity of the net to a value of 2 and then _initialize_ the net. We next pass the initialized net to _PrintLayerInfo_ to see some useful information. By the way, we could also just call the _fit_ method of the net to get the same outcome, but since we don't want to fit just now, we proceed as shown below."
   ]
  },
  {
   "cell_type": "code",
   "execution_count": 22,
   "metadata": {
    "collapsed": false
   },
   "outputs": [],
   "source": [
    "net1.initialize()"
   ]
  },
  {
   "cell_type": "code",
   "execution_count": 23,
   "metadata": {
    "collapsed": false
   },
   "outputs": [],
   "source": [
    "layer_info = PrintLayerInfo()"
   ]
  },
  {
   "cell_type": "code",
   "execution_count": 24,
   "metadata": {
    "collapsed": false
   },
   "outputs": [
    {
     "name": "stdout",
     "output_type": "stream",
     "text": [
      "# Neural Network with 140586 learnable parameters\n",
      "\n",
      "## Layer information\n",
      "\n",
      "name        size        total    cap.Y    cap.X    cov.Y    cov.X\n",
      "----------  --------  -------  -------  -------  -------  -------\n",
      "input0      1x28x28       784   100.00   100.00   100.00   100.00\n",
      "conv2d1     32x26x26    21632   100.00   100.00    10.71    10.71\n",
      "maxpool2d2  32x13x13     5408   100.00   100.00    10.71    10.71\n",
      "conv2d3     64x11x11     7744    85.71    85.71    25.00    25.00\n",
      "conv2d4     64x9x9       5184    54.55    54.55    39.29    39.29\n",
      "maxpool2d5  64x5x5       1600    54.55    54.55    39.29    39.29\n",
      "conv2d6     96x3x3        864    63.16    63.16    67.86    67.86\n",
      "maxpool2d7  96x2x2        384    63.16    63.16    67.86    67.86\n",
      "dense8      64             64   100.00   100.00   100.00   100.00\n",
      "dropout9    64             64   100.00   100.00   100.00   100.00\n",
      "dense10     64             64   100.00   100.00   100.00   100.00\n",
      "dense11     10             10   100.00   100.00   100.00   100.00\n",
      "\n",
      "Explanation\n",
      "    X, Y:    image dimensions\n",
      "    cap.:    learning capacity\n",
      "    cov.:    coverage of image\n",
      "    \u001b[35mmagenta\u001b[0m: capacity too low (<1/6)\n",
      "    \u001b[36mcyan\u001b[0m:    image coverage too high (>100%)\n",
      "    \u001b[31mred\u001b[0m:     capacity too low and coverage too high\n",
      "\n",
      "\n"
     ]
    }
   ],
   "source": [
    "layer_info(net1)"
   ]
  },
  {
   "cell_type": "markdown",
   "metadata": {},
   "source": [
    "This net is fine. The capacity never falls below 1/6, which would be 16.7%, and the coverage of the image never exceeds 100%. However, with only 4 convolutional layers, this net is not very deep and will properly not achieve the best possible results.\n",
    "\n",
    "What we also see is the role of max pooling. If we look at 'maxpool2d1', after this layer, the capacity of the net is increased. Max pooling thus helps to increase capacity should it dip too low. However, max pooling also significantly increases the coverage of the image. So if we use max pooling too often, the coverage will quickly exceed 100% and we cannot go sufficiently deep."
   ]
  },
  {
   "cell_type": "markdown",
   "metadata": {},
   "source": [
    "### Too little maxpooling"
   ]
  },
  {
   "cell_type": "markdown",
   "metadata": {},
   "source": [
    "Now let us try an architecture that uses a lot of convolutional layers but only one maxpooling layer."
   ]
  },
  {
   "cell_type": "code",
   "execution_count": 25,
   "metadata": {
    "collapsed": false
   },
   "outputs": [],
   "source": [
    "layers2 = [\n",
    "    (InputLayer, {'shape': (None, X.shape[1], X.shape[2], X.shape[3])}),\n",
    "\n",
    "    (Conv2DLayer, {'num_filters': 32, 'filter_size': (3, 3)}),\n",
    "    (Conv2DLayer, {'num_filters': 32, 'filter_size': (3, 3)}),\n",
    "    (Conv2DLayer, {'num_filters': 32, 'filter_size': (3, 3)}),\n",
    "    (Conv2DLayer, {'num_filters': 32, 'filter_size': (3, 3)}),\n",
    "    (Conv2DLayer, {'num_filters': 32, 'filter_size': (3, 3)}),\n",
    "    (Conv2DLayer, {'num_filters': 64, 'filter_size': (3, 3)}),\n",
    "    (Conv2DLayer, {'num_filters': 64, 'filter_size': (3, 3)}),\n",
    "    (Conv2DLayer, {'num_filters': 64, 'filter_size': (3, 3)}),\n",
    "    (Conv2DLayer, {'num_filters': 64, 'filter_size': (3, 3)}),\n",
    "    (Conv2DLayer, {'num_filters': 64, 'filter_size': (3, 3)}),\n",
    "    (MaxPool2DLayer, {'pool_size': (2, 2)}),\n",
    "\n",
    "    (DenseLayer, {'num_units': 64}),\n",
    "    (DropoutLayer, {}),\n",
    "    (DenseLayer, {'num_units': 64}),\n",
    "\n",
    "    (DenseLayer, {'num_units': 10, 'nonlinearity': softmax}),\n",
    "]"
   ]
  },
  {
   "cell_type": "code",
   "execution_count": 26,
   "metadata": {
    "collapsed": true
   },
   "outputs": [],
   "source": [
    "net2 = NeuralNet(\n",
    "    layers=layers2,\n",
    "    update_learning_rate=0.01,\n",
    "    verbose=2,\n",
    ")"
   ]
  },
  {
   "cell_type": "code",
   "execution_count": 27,
   "metadata": {
    "collapsed": true
   },
   "outputs": [],
   "source": [
    "net2.initialize()"
   ]
  },
  {
   "cell_type": "code",
   "execution_count": 28,
   "metadata": {
    "collapsed": false
   },
   "outputs": [
    {
     "name": "stdout",
     "output_type": "stream",
     "text": [
      "# Neural Network with 273930 learnable parameters\n",
      "\n",
      "## Layer information\n",
      "\n",
      "name         size        total    cap.Y    cap.X    cov.Y    cov.X\n",
      "-----------  --------  -------  -------  -------  -------  -------\n",
      "input0       1x28x28       784   100.00   100.00   100.00   100.00\n",
      "conv2d1      32x26x26    21632   100.00   100.00    10.71    10.71\n",
      "conv2d2      32x24x24    18432    60.00    60.00    17.86    17.86\n",
      "conv2d3      32x22x22    15488    42.86    42.86    25.00    25.00\n",
      "conv2d4      32x20x20    12800    33.33    33.33    32.14    32.14\n",
      "conv2d5      32x18x18    10368    27.27    27.27    39.29    39.29\n",
      "conv2d6      64x16x16    16384    23.08    23.08    46.43    46.43\n",
      "conv2d7      64x14x14    12544    20.00    20.00    53.57    53.57\n",
      "conv2d8      64x12x12     9216    17.65    17.65    60.71    60.71\n",
      "\u001b[35mconv2d9\u001b[0m      64x10x10     6400    15.79    15.79    67.86    67.86\n",
      "\u001b[35mconv2d10\u001b[0m     64x8x8       4096    14.29    14.29    75.00    75.00\n",
      "\u001b[35mmaxpool2d11\u001b[0m  64x4x4       1024    14.29    14.29    75.00    75.00\n",
      "dense12      64             64   100.00   100.00   100.00   100.00\n",
      "dropout13    64             64   100.00   100.00   100.00   100.00\n",
      "dense14      64             64   100.00   100.00   100.00   100.00\n",
      "dense15      10             10   100.00   100.00   100.00   100.00\n",
      "\n",
      "Explanation\n",
      "    X, Y:    image dimensions\n",
      "    cap.:    learning capacity\n",
      "    cov.:    coverage of image\n",
      "    \u001b[35mmagenta\u001b[0m: capacity too low (<1/6)\n",
      "    \u001b[36mcyan\u001b[0m:    image coverage too high (>100%)\n",
      "    \u001b[31mred\u001b[0m:     capacity too low and coverage too high\n",
      "\n",
      "\n"
     ]
    }
   ],
   "source": [
    "layer_info(net2)"
   ]
  },
  {
   "cell_type": "markdown",
   "metadata": {},
   "source": [
    "Here we have a very deep net but we have a problem: The lack of max pooling layers means that the capacity of the net dips below 16.7%. The corresponding layers are shown in magenta. We need to find a better solution."
   ]
  },
  {
   "cell_type": "markdown",
   "metadata": {},
   "source": [
    "### Too much maxpooling"
   ]
  },
  {
   "cell_type": "markdown",
   "metadata": {},
   "source": [
    "Here is an architecture with too mach maxpooling. For illustrative purposes, we set the _pad_ parameter to 1; without it, the image size would shrink below 0, at which point the code will raise an error."
   ]
  },
  {
   "cell_type": "code",
   "execution_count": 29,
   "metadata": {
    "collapsed": false
   },
   "outputs": [],
   "source": [
    "layers3 = [\n",
    "    (InputLayer, {'shape': (None, X.shape[1], X.shape[2], X.shape[3])}),\n",
    "\n",
    "    (Conv2DLayer, {'num_filters': 32, 'filter_size': (3, 3), 'pad': 1}),\n",
    "    (Conv2DLayer, {'num_filters': 32, 'filter_size': (3, 3), 'pad': 1}),\n",
    "    (MaxPool2DLayer, {'pool_size': (2, 2)}),\n",
    "    (Conv2DLayer, {'num_filters': 32, 'filter_size': (3, 3), 'pad': 1}),\n",
    "    (Conv2DLayer, {'num_filters': 32, 'filter_size': (3, 3), 'pad': 1}),\n",
    "    (MaxPool2DLayer, {'pool_size': (2, 2)}),\n",
    "    (Conv2DLayer, {'num_filters': 64, 'filter_size': (3, 3), 'pad': 1}),\n",
    "    (Conv2DLayer, {'num_filters': 64, 'filter_size': (3, 3), 'pad': 1}),\n",
    "    (MaxPool2DLayer, {'pool_size': (2, 2)}),\n",
    "    (Conv2DLayer, {'num_filters': 64, 'filter_size': (3, 3), 'pad': 1}),\n",
    "    (Conv2DLayer, {'num_filters': 64, 'filter_size': (3, 3), 'pad': 1}),\n",
    "    (MaxPool2DLayer, {'pool_size': (2, 2)}),\n",
    "\n",
    "    (DenseLayer, {'num_units': 64}),\n",
    "    (DropoutLayer, {}),\n",
    "    (DenseLayer, {'num_units': 64}),\n",
    "\n",
    "    (DenseLayer, {'num_units': 10, 'nonlinearity': softmax}),\n",
    "]"
   ]
  },
  {
   "cell_type": "code",
   "execution_count": 30,
   "metadata": {
    "collapsed": true
   },
   "outputs": [],
   "source": [
    "net3 = NeuralNet(\n",
    "    layers=layers3,\n",
    "    update_learning_rate=0.01,\n",
    "    verbose=2,\n",
    ")"
   ]
  },
  {
   "cell_type": "code",
   "execution_count": 31,
   "metadata": {
    "collapsed": false
   },
   "outputs": [],
   "source": [
    "net3.initialize()"
   ]
  },
  {
   "cell_type": "code",
   "execution_count": 32,
   "metadata": {
    "collapsed": false
   },
   "outputs": [
    {
     "name": "stdout",
     "output_type": "stream",
     "text": [
      "# Neural Network with 178602 learnable parameters\n",
      "\n",
      "## Layer information\n",
      "\n",
      "name         size        total    cap.Y    cap.X    cov.Y    cov.X\n",
      "-----------  --------  -------  -------  -------  -------  -------\n",
      "input0       1x28x28       784   100.00   100.00   100.00   100.00\n",
      "conv2d1      32x28x28    25088   100.00   100.00    10.71    10.71\n",
      "conv2d2      32x28x28    25088    60.00    60.00    17.86    17.86\n",
      "maxpool2d3   32x14x14     6272    60.00    60.00    17.86    17.86\n",
      "conv2d4      32x14x14     6272    66.67    66.67    32.14    32.14\n",
      "conv2d5      32x14x14     6272    46.15    46.15    46.43    46.43\n",
      "maxpool2d6   32x7x7       1568    46.15    46.15    46.43    46.43\n",
      "conv2d7      64x7x7       3136    57.14    57.14    75.00    75.00\n",
      "\u001b[36mconv2d8\u001b[0m      64x7x7       3136    41.38    41.38   103.57   103.57\n",
      "\u001b[36mmaxpool2d9\u001b[0m   64x4x4       1024    41.38    41.38   103.57   103.57\n",
      "\u001b[36mconv2d10\u001b[0m     64x4x4       1024    53.33    53.33   160.71   160.71\n",
      "\u001b[36mconv2d11\u001b[0m     64x4x4       1024    39.34    39.34   217.86   217.86\n",
      "\u001b[36mmaxpool2d12\u001b[0m  64x2x2        256    39.34    39.34   217.86   217.86\n",
      "dense13      64             64   100.00   100.00   100.00   100.00\n",
      "dropout14    64             64   100.00   100.00   100.00   100.00\n",
      "dense15      64             64   100.00   100.00   100.00   100.00\n",
      "dense16      10             10   100.00   100.00   100.00   100.00\n",
      "\n",
      "Explanation\n",
      "    X, Y:    image dimensions\n",
      "    cap.:    learning capacity\n",
      "    cov.:    coverage of image\n",
      "    \u001b[35mmagenta\u001b[0m: capacity too low (<1/6)\n",
      "    \u001b[36mcyan\u001b[0m:    image coverage too high (>100%)\n",
      "    \u001b[31mred\u001b[0m:     capacity too low and coverage too high\n",
      "\n",
      "\n"
     ]
    }
   ],
   "source": [
    "layer_info(net3)"
   ]
  },
  {
   "cell_type": "markdown",
   "metadata": {},
   "source": [
    "This net uses too much maxpooling for too small an image. The later layers, colored in cyan, would cover more than 100% of the image. So this network is clearly also suboptimal."
   ]
  },
  {
   "cell_type": "markdown",
   "metadata": {},
   "source": [
    "### A good compromise "
   ]
  },
  {
   "cell_type": "markdown",
   "metadata": {},
   "source": [
    "Now let us have a look at a reasonably deep architecture that satisfies the criteria we set out to meet:"
   ]
  },
  {
   "cell_type": "code",
   "execution_count": 33,
   "metadata": {
    "collapsed": true
   },
   "outputs": [],
   "source": [
    "layers4 = [\n",
    "    (InputLayer, {'shape': (None, X.shape[1], X.shape[2], X.shape[3])}),\n",
    "\n",
    "    (Conv2DLayer, {'num_filters': 32, 'filter_size': (3, 3), 'pad': 1}),\n",
    "    (Conv2DLayer, {'num_filters': 32, 'filter_size': (3, 3), 'pad': 1}),\n",
    "    (Conv2DLayer, {'num_filters': 32, 'filter_size': (3, 3), 'pad': 1}),\n",
    "    (Conv2DLayer, {'num_filters': 32, 'filter_size': (3, 3), 'pad': 1}),\n",
    "    (Conv2DLayer, {'num_filters': 32, 'filter_size': (3, 3), 'pad': 1}),\n",
    "    (Conv2DLayer, {'num_filters': 32, 'filter_size': (3, 3), 'pad': 1}),\n",
    "    (Conv2DLayer, {'num_filters': 32, 'filter_size': (3, 3), 'pad': 1}),\n",
    "    (MaxPool2DLayer, {'pool_size': (2, 2)}),\n",
    "\n",
    "    (Conv2DLayer, {'num_filters': 64, 'filter_size': (3, 3), 'pad': 1}),\n",
    "    (Conv2DLayer, {'num_filters': 64, 'filter_size': (3, 3), 'pad': 1}),\n",
    "    (Conv2DLayer, {'num_filters': 64, 'filter_size': (3, 3), 'pad': 1}),\n",
    "    (MaxPool2DLayer, {'pool_size': (2, 2)}),\n",
    "\n",
    "    (DenseLayer, {'num_units': 64}),\n",
    "    (DropoutLayer, {}),\n",
    "    (DenseLayer, {'num_units': 64}),\n",
    "\n",
    "    (DenseLayer, {'num_units': 10, 'nonlinearity': softmax}),\n",
    "]"
   ]
  },
  {
   "cell_type": "code",
   "execution_count": 34,
   "metadata": {
    "collapsed": true
   },
   "outputs": [],
   "source": [
    "net4 = NeuralNet(\n",
    "    layers=layers4,\n",
    "    update_learning_rate=0.01,\n",
    "    verbose=2,\n",
    ")"
   ]
  },
  {
   "cell_type": "code",
   "execution_count": 35,
   "metadata": {
    "collapsed": true
   },
   "outputs": [],
   "source": [
    "net4.initialize()"
   ]
  },
  {
   "cell_type": "code",
   "execution_count": 36,
   "metadata": {
    "collapsed": false
   },
   "outputs": [
    {
     "name": "stdout",
     "output_type": "stream",
     "text": [
      "# Neural Network with 353738 learnable parameters\n",
      "\n",
      "## Layer information\n",
      "\n",
      "name         size        total    cap.Y    cap.X    cov.Y    cov.X\n",
      "-----------  --------  -------  -------  -------  -------  -------\n",
      "input0       1x28x28       784   100.00   100.00   100.00   100.00\n",
      "conv2d1      32x28x28    25088   100.00   100.00    10.71    10.71\n",
      "conv2d2      32x28x28    25088    60.00    60.00    17.86    17.86\n",
      "conv2d3      32x28x28    25088    42.86    42.86    25.00    25.00\n",
      "conv2d4      32x28x28    25088    33.33    33.33    32.14    32.14\n",
      "conv2d5      32x28x28    25088    27.27    27.27    39.29    39.29\n",
      "conv2d6      32x28x28    25088    23.08    23.08    46.43    46.43\n",
      "conv2d7      32x28x28    25088    20.00    20.00    53.57    53.57\n",
      "maxpool2d8   32x14x14     6272    20.00    20.00    53.57    53.57\n",
      "conv2d9      64x14x14    12544    31.58    31.58    67.86    67.86\n",
      "conv2d10     64x14x14    12544    26.09    26.09    82.14    82.14\n",
      "conv2d11     64x14x14    12544    22.22    22.22    96.43    96.43\n",
      "maxpool2d12  64x7x7       3136    22.22    22.22    96.43    96.43\n",
      "dense13      64             64   100.00   100.00   100.00   100.00\n",
      "dropout14    64             64   100.00   100.00   100.00   100.00\n",
      "dense15      64             64   100.00   100.00   100.00   100.00\n",
      "dense16      10             10   100.00   100.00   100.00   100.00\n",
      "\n",
      "Explanation\n",
      "    X, Y:    image dimensions\n",
      "    cap.:    learning capacity\n",
      "    cov.:    coverage of image\n",
      "    \u001b[35mmagenta\u001b[0m: capacity too low (<1/6)\n",
      "    \u001b[36mcyan\u001b[0m:    image coverage too high (>100%)\n",
      "    \u001b[31mred\u001b[0m:     capacity too low and coverage too high\n",
      "\n",
      "\n"
     ]
    }
   ],
   "source": [
    "layer_info(net4)"
   ]
  },
  {
   "cell_type": "markdown",
   "metadata": {},
   "source": [
    "With 10 convolutional layers, this network is rather deep, given the small image size. Yet the learning capacity is always suffiently large and never are is than 100% of the image covered. This could just be a good solution. Maybe you would like to give this architecture a spin?\n",
    "\n",
    "Note 1: The MNIST images typically don't cover the whole of the 28x28 image size. Therefore, an image coverage of less than 100% is probably very acceptable. For other image data sets such as CIFAR or ImageNet, it is recommended to cover the whole image.\n",
    "\n",
    "Note 2: This analysis does not tell us how many feature maps (i.e. number of filters per convolutional layer) to use. Here we have to experiment with different values. Larger values mean that the network should learn more types of features but also increase the risk of overfitting (and may exceed the available memory). In general though, deeper layers (those farther down) are supposed to learn more complex features and should thus have more feature maps."
   ]
  },
  {
   "cell_type": "markdown",
   "metadata": {},
   "source": [
    "### Even more information"
   ]
  },
  {
   "cell_type": "markdown",
   "metadata": {},
   "source": [
    "It is possible to get more information by increasing the verbosity level beyond 2."
   ]
  },
  {
   "cell_type": "code",
   "execution_count": 37,
   "metadata": {
    "collapsed": true
   },
   "outputs": [],
   "source": [
    "net4.verbose = 3"
   ]
  },
  {
   "cell_type": "code",
   "execution_count": 38,
   "metadata": {
    "collapsed": false
   },
   "outputs": [
    {
     "name": "stdout",
     "output_type": "stream",
     "text": [
      "# Neural Network with 353738 learnable parameters\n",
      "\n",
      "## Layer information\n",
      "\n",
      "name         size        total    cap.Y    cap.X    cov.Y    cov.X    filter Y    filter X    field Y    field X\n",
      "-----------  --------  -------  -------  -------  -------  -------  ----------  ----------  ---------  ---------\n",
      "input0       1x28x28       784   100.00   100.00   100.00   100.00          28          28         28         28\n",
      "conv2d1      32x28x28    25088   100.00   100.00    10.71    10.71           3           3          3          3\n",
      "conv2d2      32x28x28    25088    60.00    60.00    17.86    17.86           3           3          5          5\n",
      "conv2d3      32x28x28    25088    42.86    42.86    25.00    25.00           3           3          7          7\n",
      "conv2d4      32x28x28    25088    33.33    33.33    32.14    32.14           3           3          9          9\n",
      "conv2d5      32x28x28    25088    27.27    27.27    39.29    39.29           3           3         11         11\n",
      "conv2d6      32x28x28    25088    23.08    23.08    46.43    46.43           3           3         13         13\n",
      "conv2d7      32x28x28    25088    20.00    20.00    53.57    53.57           3           3         15         15\n",
      "maxpool2d8   32x14x14     6272    20.00    20.00    53.57    53.57           3           3         15         15\n",
      "conv2d9      64x14x14    12544    31.58    31.58    67.86    67.86           6           6         19         19\n",
      "conv2d10     64x14x14    12544    26.09    26.09    82.14    82.14           6           6         23         23\n",
      "conv2d11     64x14x14    12544    22.22    22.22    96.43    96.43           6           6         27         27\n",
      "maxpool2d12  64x7x7       3136    22.22    22.22    96.43    96.43           6           6         27         27\n",
      "dense13      64             64   100.00   100.00   100.00   100.00          28          28         28         28\n",
      "dropout14    64             64   100.00   100.00   100.00   100.00          28          28         28         28\n",
      "dense15      64             64   100.00   100.00   100.00   100.00          28          28         28         28\n",
      "dense16      10             10   100.00   100.00   100.00   100.00          28          28         28         28\n",
      "\n",
      "Explanation\n",
      "    X, Y:    image dimensions\n",
      "    cap.:    learning capacity\n",
      "    cov.:    coverage of image\n",
      "    \u001b[35mmagenta\u001b[0m: capacity too low (<1/6)\n",
      "    \u001b[36mcyan\u001b[0m:    image coverage too high (>100%)\n",
      "    \u001b[31mred\u001b[0m:     capacity too low and coverage too high\n",
      "\n",
      "\n"
     ]
    }
   ],
   "source": [
    "layer_info(net4)"
   ]
  },
  {
   "cell_type": "markdown",
   "metadata": {},
   "source": [
    "Here we get additional information about the real filter size of the convolutional layers, as well as their receptive field sizes. If the receptive field size grows too large compared to the real filter size, capacity dips too low. As receptive field size grows larger, more and more of the image is covered."
   ]
  },
  {
   "cell_type": "markdown",
   "metadata": {},
   "source": [
    "### Caveat"
   ]
  },
  {
   "cell_type": "markdown",
   "metadata": {},
   "source": [
    "A caveat to the findings presented here is that capacity and coverage may not be calculated correctly if you use padding or strides other than 1 for the convolutional layers. Including this would make the calculation much more complicated. However, even if you want to use these parameters, the calculations shown here should not deviate too much and the results may still serve as a rough guideline.\n",
    "\n",
    "Furthermore, to our knowledge, there is no publicly available paper on this topic, so all results should be taken with care."
   ]
  }
 ],
 "metadata": {
  "kernelspec": {
   "display_name": "Python 2",
   "language": "python",
   "name": "python2"
  },
  "language_info": {
   "codemirror_mode": {
    "name": "ipython",
    "version": 2
   },
   "file_extension": ".py",
   "mimetype": "text/x-python",
   "name": "python",
   "nbconvert_exporter": "python",
   "pygments_lexer": "ipython2",
   "version": "2.7.10"
  }
 },
 "nbformat": 4,
 "nbformat_minor": 0
}
